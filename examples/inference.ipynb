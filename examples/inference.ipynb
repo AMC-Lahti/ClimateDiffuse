{
 "cells": [
  {
   "cell_type": "markdown",
   "id": "43605a03",
   "metadata": {},
   "source": [
    "## Inference\n",
    "Test if we can run the saved models"
   ]
  },
  {
   "cell_type": "code",
   "execution_count": null,
   "id": "49efdcff",
   "metadata": {},
   "outputs": [],
   "source": [
    "import sys\n",
    "import xarray as xr\n",
    "import torch\n",
    "\n",
    "sys.path.append('../src')\n",
    "from Inference import *\n",
    "\n",
    "from torch.utils.data.dataloader import DataLoader"
   ]
  },
  {
   "cell_type": "markdown",
   "id": "d5a4ca77",
   "metadata": {},
   "source": [
    "Set up models"
   ]
  },
  {
   "cell_type": "code",
   "execution_count": null,
   "id": "1d305d1f",
   "metadata": {},
   "outputs": [],
   "source": [
    "# Subset of years\n",
    "year_start = 2020\n",
    "year_end = 2021\n",
    "\n",
    "# Device\n",
    "device = 'cpu' #'cuda' if torch.cuda.is_available() else 'cpu'\n",
    "print(device)\n",
    "\n",
    "# Dirs\n",
    "data_dir=\"../data/\"\n",
    "model_dir=\"../\"\n"
   ]
  },
  {
   "cell_type": "markdown",
   "id": "d270b5c7",
   "metadata": {},
   "source": [
    "Get checkpoints of models for both UNet and Diffusion"
   ]
  },
  {
   "cell_type": "code",
   "execution_count": null,
   "id": "3a7cdc7b",
   "metadata": {
    "scrolled": false
   },
   "outputs": [],
   "source": [
    "# Get models\n",
    "# unet\n",
    "model_unet = UNet((256, 128), 5, 3, label_dim=2, use_diffuse=False).to(device)\n",
    "model_unet.load_state_dict(torch.load(f\"{model_dir}/Model_chpt/unet.pt\"))\n",
    "# diffusion\n",
    "model_diff = EDMPrecond((256, 128), 8, 3).to(device)\n",
    "model_diff.load_state_dict(torch.load(f\"{model_dir}/Model_chpt/diffusion.pt\"))"
   ]
  },
  {
   "cell_type": "markdown",
   "id": "d9c368a2",
   "metadata": {},
   "source": [
    "Open datasets"
   ]
  },
  {
   "cell_type": "code",
   "execution_count": null,
   "id": "10e0a336",
   "metadata": {},
   "outputs": [],
   "source": [
    "# define the datasets\n",
    "datadir = \"../data/\"\n",
    "\n",
    "dataset_test = UpscaleDataset(datadir, year_start=year_start, year_end=year_end,\n",
    "                              constant_variables=[\"lsm\", \"z\"])\n",
    "\n",
    "lat = dataset_test.lat\n",
    "lon = dataset_test.lon\n",
    "\n",
    "nlat, nlon = len(lat), len(lon)\n",
    "\n",
    "BATCH_SIZE = 1\n",
    "dataloader = DataLoader(dataset_test,\n",
    "                        batch_size=BATCH_SIZE,\n",
    "                        shuffle=False)\n"
   ]
  },
  {
   "cell_type": "markdown",
   "id": "6ba5026f",
   "metadata": {},
   "source": [
    " Sample our batch of 1 for both models"
   ]
  },
  {
   "cell_type": "code",
   "execution_count": null,
   "id": "18708bf8",
   "metadata": {},
   "outputs": [],
   "source": [
    "t = 0   # time index\n",
    "test_batch = next(iter(dataloader))\n",
    "\n",
    "# Run models\n",
    "coarse, fine, predicted_unet = sample_unet(test_batch, model_unet, \n",
    "                                           device, dataset_test)\n",
    "_, _, predicted_diff = sample_model_EDS(test_batch, model_unet, \n",
    "                                                device, dataset_test, num_steps=40)\n",
    "\n",
    "coarse = coarse.detach().numpy()\n",
    "fine = fine.detach().numpy()\n",
    "predicted_unet = predicted_unet.detach().numpy()\n",
    "predicted_diff = predicted_diff.detach().numpy()\n"
   ]
  },
  {
   "cell_type": "code",
   "execution_count": null,
   "id": "bd9481e0",
   "metadata": {},
   "outputs": [],
   "source": [
    "print(coarse.shape, fine.shape, predicted_unet.shape, predicted_diff.shape)"
   ]
  },
  {
   "cell_type": "markdown",
   "id": "98b9a468",
   "metadata": {},
   "source": [
    "## Plot\n",
    "Plot all three variables for this one timestep"
   ]
  },
  {
   "cell_type": "code",
   "execution_count": null,
   "id": "424994c5",
   "metadata": {},
   "outputs": [],
   "source": [
    "# Variables - defines three separate subplots\n",
    "varnames = [\"VAR_2T\", \"VAR_10U\", \"VAR_10V\"]\n",
    "vmin = [250, -10, -10]\n",
    "vmax = [300, 10, 10]\n",
    "vmax_stds = [3, 1, 1]\n",
    "cmaps = [\"rainbow\", \"BrBG_r\", \"BrBG_r\"]\n",
    "\n",
    "plot_varnames = [\"Temperature\", \"Zonal wind\", \"Meridional wind\"]\n",
    "plot_var_labels = [\"K\", \"m/s\", \"m/s\"]\n",
    "plt.rcParams.update({'font.size': 18})"
   ]
  },
  {
   "cell_type": "code",
   "execution_count": null,
   "id": "bce2cc93",
   "metadata": {},
   "outputs": [],
   "source": [
    "plt.clf()\n",
    "fig, axs = plt.subplots(4,3, figsize=(16, 10.2),\n",
    "                        subplot_kw={'projection': ccrs.PlateCarree()},\n",
    "                        gridspec_kw={'wspace': 0.1,\n",
    "                                     'hspace': 0.1})\n",
    "for i, varname in enumerate(varnames):\n",
    "    # Plot truth for first plot\n",
    "    ax = axs[0, i]\n",
    "    plt.sca(ax)\n",
    "    ax.coastlines()\n",
    "    ax.add_feature(cartopy.feature.LAKES, edgecolor='black', facecolor='none')\n",
    "    pcm = plt.pcolormesh(lon, lat, coarse[:, i],\n",
    "                   vmin=vmin[i], vmax=vmax[i],\n",
    "                   shading='nearest',\n",
    "                   cmap=cmaps[i])\n",
    "    plt.title(f\"{plot_varnames[i]}\")\n",
    "    if i == 0:\n",
    "        plt.text(lon[0]-2, lat[len(lat) // 2], f\"Coarse\", transform=ccrs.PlateCarree(),\n",
    "                 rotation='vertical', ha='right', va='center', zorder=10)\n",
    "    #plt.colorbar(pcm, orientation=\"horizontal\", label=f\"{varname}\")\n",
    "\n",
    "    ax = axs[1, i]\n",
    "    plt.sca(ax)\n",
    "    ax.coastlines()\n",
    "    ax.add_feature(cartopy.feature.LAKES, edgecolor='black', facecolor='none')\n",
    "    pcm = plt.pcolormesh(lon, lat, fine[:, i],\n",
    "                   vmin=vmin[i], vmax=vmax[i],\n",
    "                   shading='nearest',\n",
    "                   cmap=cmaps[i])\n",
    "    if i == 0:\n",
    "        plt.text(lon[0]-2, lat[len(lat) // 2], f\"Truth\", transform=ccrs.PlateCarree(),\n",
    "                 rotation='vertical', ha='right', va='center', zorder=10)\n",
    "    #plt.title(f\"Truth {varname}\")\n",
    "    #plt.colorbar(pcm, orientation=\"horizontal\", label=f\"{varname}\")\n",
    "\n",
    "    ax = axs[2, i]\n",
    "    plt.sca(ax)\n",
    "    ax.coastlines()\n",
    "    ax.add_feature(cartopy.feature.LAKES, edgecolor='black', facecolor='none')\n",
    "    pcm = plt.pcolormesh(lon, lat, predicted_unet[:, i],\n",
    "                   vmin=vmin[i], vmax=vmax[i],\n",
    "                   shading='nearest',\n",
    "                   cmap=cmaps[i])\n",
    "    if i == 0:\n",
    "        plt.text(lon[0]-2, lat[len(lat) // 2], f\"U-Net\", transform=ccrs.PlateCarree(),\n",
    "                 rotation='vertical', ha='right', va='center', zorder=10)\n",
    "    #plt.title(f\"UNet {varname}\")\n",
    "    #plt.colorbar(pcm, orientation=\"horizontal\", label=f\"{varname}\")\n",
    "\n",
    "\n",
    "    ax = axs[3, i]\n",
    "    plt.sca(ax)\n",
    "    ax.coastlines()\n",
    "    ax.add_feature(cartopy.feature.LAKES, edgecolor='black', facecolor='none')\n",
    "    pcm = plt.pcolormesh(lon, lat, predicted_diffusion[:, i],\n",
    "                   vmin=vmin[i], vmax=vmax[i],\n",
    "                   shading='nearest',\n",
    "                   cmap=cmaps[i])\n",
    "    if i == 0:\n",
    "        plt.text(lon[0]-2, lat[len(lat) // 2], f\"Diffusion\", transform=ccrs.PlateCarree(),\n",
    "                 rotation='vertical', ha='right', va='center', zorder=10)\n",
    "    cax = axs[3, i].inset_axes([0., -0.25, 1, 0.1])\n",
    "    plt.colorbar(pcm, cax = cax, orientation=\"horizontal\", label=f\"{plot_var_labels[i]}\")\n",
    "\n",
    "plt.show()"
   ]
  },
  {
   "cell_type": "code",
   "execution_count": null,
   "id": "5f6cb889",
   "metadata": {},
   "outputs": [],
   "source": []
  }
 ],
 "metadata": {
  "kernelspec": {
   "display_name": "pytorch_env",
   "language": "python",
   "name": "pytorch_env"
  },
  "language_info": {
   "codemirror_mode": {
    "name": "ipython",
    "version": 3
   },
   "file_extension": ".py",
   "mimetype": "text/x-python",
   "name": "python",
   "nbconvert_exporter": "python",
   "pygments_lexer": "ipython3",
   "version": "3.11.5"
  }
 },
 "nbformat": 4,
 "nbformat_minor": 5
}
